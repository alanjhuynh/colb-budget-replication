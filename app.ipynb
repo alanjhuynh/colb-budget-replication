{
 "cells": [
  {
   "cell_type": "code",
   "execution_count": 118,
   "metadata": {},
   "outputs": [],
   "source": [
    "import dash\n",
    "import dash_core_components as dcc\n",
    "import dash_html_components as html\n",
    "import pandas as pd\n",
    "import plotly\n",
    "import plotly.graph_objects as go\n",
    "\n",
    "df=pd.read_csv('./data/wide_budget.csv')"
   ]
  },
  {
   "cell_type": "code",
   "execution_count": 119,
   "metadata": {},
   "outputs": [],
   "source": [
    "def clean_column_name(x):\n",
    "    return x.replace(' ','_').lower()"
   ]
  },
  {
   "cell_type": "code",
   "execution_count": 120,
   "metadata": {},
   "outputs": [],
   "source": [
    "external_stylesheets = ['https://codepen.io/chriddyp/pen/bWLwgP.css']\n",
    "\n",
    "colors = {\n",
    "    'background': '#111111',\n",
    "    'text': 'black',\n",
    "    'default': 'black',\n",
    "    'border': 'transparent'\n",
    "}\n",
    "\n",
    "app = dash.Dash(__name__, external_stylesheets=external_stylesheets)"
   ]
  },
  {
   "cell_type": "code",
   "execution_count": 121,
   "metadata": {},
   "outputs": [],
   "source": [
    "stackedLineFig = go.Figure()\n",
    "\n",
    "for i in range(len(df.columns)-1):\n",
    "    stackedLineFig.add_trace(go.Scatter(x=df.columns[1:], y=df.iloc[i][1:], name=df.iloc[i][0], stackgroup='one'))\n",
    "#stackedLineFig.show()"
   ]
  },
  {
   "cell_type": "code",
   "execution_count": 122,
   "metadata": {},
   "outputs": [],
   "source": [
    "lineFig = go.Figure()\n",
    "\n",
    "for i in range(len(df.columns)-1):\n",
    "    lineFig.add_trace(go.Scatter(x=df.columns[1:], y=df.iloc[i][1:], name=df.iloc[i][0]))    \n",
    "#lineFig.show()"
   ]
  },
  {
   "cell_type": "code",
   "execution_count": 123,
   "metadata": {},
   "outputs": [],
   "source": [
    "percentLineFig = go.Figure()\n",
    "\n",
    "for i in range(len(df.columns)-1):\n",
    "    percentLineFig.add_trace(go.Scatter(x=df.columns[1:], y=df.iloc[i][1:], name=df.iloc[i][0], stackgroup='one', groupnorm='percent'))\n",
    "#percentLineFig.show()"
   ]
  },
  {
   "cell_type": "code",
   "execution_count": 124,
   "metadata": {},
   "outputs": [],
   "source": [
    "groupedBarFig = go.Figure()\n",
    "\n",
    "for i in range(len(df.columns)-1):\n",
    "    groupedBarFig.add_trace(go.Bar(x=df.columns[1:], y=df.iloc[i][1:], name=df.iloc[i][0]))\n",
    "#groupedBarFig.show()"
   ]
  },
  {
   "cell_type": "code",
   "execution_count": 125,
   "metadata": {},
   "outputs": [
    {
     "data": {
      "application/vnd.plotly.v1+json": {
       "config": {
        "plotlyServerURL": "https://plot.ly"
       },
       "data": [
        {
         "name": "PUBLIC WORKS",
         "type": "bar",
         "x": [
          "2011-12 Actual",
          "2012-13 Actual",
          "2013-14 Actual",
          "2014-15 Actual",
          "2015-16 Actual",
          "2016-17 Actual",
          "2017-18 Actual",
          "2018-19 Adopted Budget",
          "2019-20 Proposed Budget"
         ],
         "y": [
          "$186,535,064 ",
          "$221,025,972 ",
          "$178,389,707 ",
          "$180,689,142 ",
          "$206,854,289 ",
          "$215,170,806 ",
          "$219,521,708 ",
          "$199,283,083 ",
          "$242,114,403 "
         ]
        },
        {
         "name": "DEVEL0PMENT SERVICES",
         "type": "bar",
         "x": [
          "2011-12 Actual",
          "2012-13 Actual",
          "2013-14 Actual",
          "2014-15 Actual",
          "2015-16 Actual",
          "2016-17 Actual",
          "2017-18 Actual",
          "2018-19 Adopted Budget",
          "2019-20 Proposed Budget"
         ],
         "y": [
          "310,961,163",
          "146,389,968",
          "113,322,724",
          "310,897,673",
          "93,869,665",
          "77,510,788",
          "106,972,164",
          "115,396,257",
          "76,017,157"
         ]
        },
        {
         "name": "ENTERPRISE",
         "type": "bar",
         "x": [
          "2011-12 Actual",
          "2012-13 Actual",
          "2013-14 Actual",
          "2014-15 Actual",
          "2015-16 Actual",
          "2016-17 Actual",
          "2017-18 Actual",
          "2018-19 Adopted Budget",
          "2019-20 Proposed Budget"
         ],
         "y": [
          "1,320,162,959",
          "1,702,228,769",
          "1,434,714,486",
          "978,227,383",
          "990,290,335",
          "941,052,331",
          "1,038,703,651",
          "1,411,268,167",
          "1,111,756,810"
         ]
        },
        {
         "name": "ELECTED AND APPOINTED",
         "type": "bar",
         "x": [
          "2011-12 Actual",
          "2012-13 Actual",
          "2013-14 Actual",
          "2014-15 Actual",
          "2015-16 Actual",
          "2016-17 Actual",
          "2017-18 Actual",
          "2018-19 Adopted Budget",
          "2019-20 Proposed Budget"
         ],
         "y": [
          "25,333,580",
          "24,373,193",
          "26,892,378",
          "25,689,895",
          "28,252,439",
          "28,201,876",
          "30,929,163",
          "33,144,490",
          "33,990,425"
         ]
        },
        {
         "name": "INTERNAL SERVICES",
         "type": "bar",
         "x": [
          "2011-12 Actual",
          "2012-13 Actual",
          "2013-14 Actual",
          "2014-15 Actual",
          "2015-16 Actual",
          "2016-17 Actual",
          "2017-18 Actual",
          "2018-19 Adopted Budget",
          "2019-20 Proposed Budget"
         ],
         "y": [
          "91,927,400",
          "117,254,617",
          "141,748,372",
          "154,295,626",
          "139,344,860",
          "135,696,595",
          "135,025,138",
          "154,251,748",
          "159,601,699"
         ]
        },
        {
         "name": "PUBLIC SAFETY",
         "type": "bar",
         "x": [
          "2011-12 Actual",
          "2012-13 Actual",
          "2013-14 Actual",
          "2014-15 Actual",
          "2015-16 Actual",
          "2016-17 Actual",
          "2017-18 Actual",
          "2018-19 Adopted Budget",
          "2019-20 Proposed Budget"
         ],
         "y": [
          "304,381,123",
          "306,099,235",
          "321,664,293",
          "320,089,911",
          "327,923,358",
          "362,013,988",
          "383,005,737",
          "398,931,953",
          "408,112,357"
         ]
        },
        {
         "name": "COMMUNITY SERVICES",
         "type": "bar",
         "x": [
          "2011-12 Actual",
          "2012-13 Actual",
          "2013-14 Actual",
          "2014-15 Actual",
          "2015-16 Actual",
          "2016-17 Actual",
          "2017-18 Actual",
          "2018-19 Adopted Budget",
          "2019-20 Proposed Budget"
         ],
         "y": [
          "204,994,347",
          "191,637,976",
          "181,139,950",
          "184,568,776",
          "191,364,979",
          "193,286,705",
          "198,069,337",
          "212,859,739",
          "227,833,391"
         ]
        },
        {
         "name": "ECONOMIC DEVELOPMENT",
         "type": "bar",
         "x": [
          "2011-12 Actual",
          "2012-13 Actual",
          "2013-14 Actual",
          "2014-15 Actual",
          "2015-16 Actual",
          "2016-17 Actual",
          "2017-18 Actual",
          "2018-19 Adopted Budget",
          "2019-20 Proposed Budget"
         ],
         "y": [
          "0",
          "0",
          "0",
          "0",
          "31,734,344",
          "30,134,761",
          "33,460,528",
          "21,524,996",
          "22,809,791"
         ]
        },
        {
         "name": "CITY WIDE ACTIVITIES",
         "type": "bar",
         "x": [
          "2011-12 Actual",
          "2012-13 Actual",
          "2013-14 Actual",
          "2014-15 Actual",
          "2015-16 Actual",
          "2016-17 Actual",
          "2017-18 Actual",
          "2018-19 Adopted Budget",
          "2019-20 Proposed Budget"
         ],
         "y": [
          "424,707,230",
          "403,692,397",
          "384,297,883",
          "417,685,667",
          "390,054,403",
          "430,612,967",
          "454,832,408",
          "484,100,630",
          "514,803,273"
         ]
        }
       ],
       "layout": {
        "barmode": "stack",
        "template": {
         "data": {
          "bar": [
           {
            "error_x": {
             "color": "#2a3f5f"
            },
            "error_y": {
             "color": "#2a3f5f"
            },
            "marker": {
             "line": {
              "color": "#E5ECF6",
              "width": 0.5
             }
            },
            "type": "bar"
           }
          ],
          "barpolar": [
           {
            "marker": {
             "line": {
              "color": "#E5ECF6",
              "width": 0.5
             }
            },
            "type": "barpolar"
           }
          ],
          "carpet": [
           {
            "aaxis": {
             "endlinecolor": "#2a3f5f",
             "gridcolor": "white",
             "linecolor": "white",
             "minorgridcolor": "white",
             "startlinecolor": "#2a3f5f"
            },
            "baxis": {
             "endlinecolor": "#2a3f5f",
             "gridcolor": "white",
             "linecolor": "white",
             "minorgridcolor": "white",
             "startlinecolor": "#2a3f5f"
            },
            "type": "carpet"
           }
          ],
          "choropleth": [
           {
            "colorbar": {
             "outlinewidth": 0,
             "ticks": ""
            },
            "type": "choropleth"
           }
          ],
          "contour": [
           {
            "colorbar": {
             "outlinewidth": 0,
             "ticks": ""
            },
            "colorscale": [
             [
              0,
              "#0d0887"
             ],
             [
              0.1111111111111111,
              "#46039f"
             ],
             [
              0.2222222222222222,
              "#7201a8"
             ],
             [
              0.3333333333333333,
              "#9c179e"
             ],
             [
              0.4444444444444444,
              "#bd3786"
             ],
             [
              0.5555555555555556,
              "#d8576b"
             ],
             [
              0.6666666666666666,
              "#ed7953"
             ],
             [
              0.7777777777777778,
              "#fb9f3a"
             ],
             [
              0.8888888888888888,
              "#fdca26"
             ],
             [
              1,
              "#f0f921"
             ]
            ],
            "type": "contour"
           }
          ],
          "contourcarpet": [
           {
            "colorbar": {
             "outlinewidth": 0,
             "ticks": ""
            },
            "type": "contourcarpet"
           }
          ],
          "heatmap": [
           {
            "colorbar": {
             "outlinewidth": 0,
             "ticks": ""
            },
            "colorscale": [
             [
              0,
              "#0d0887"
             ],
             [
              0.1111111111111111,
              "#46039f"
             ],
             [
              0.2222222222222222,
              "#7201a8"
             ],
             [
              0.3333333333333333,
              "#9c179e"
             ],
             [
              0.4444444444444444,
              "#bd3786"
             ],
             [
              0.5555555555555556,
              "#d8576b"
             ],
             [
              0.6666666666666666,
              "#ed7953"
             ],
             [
              0.7777777777777778,
              "#fb9f3a"
             ],
             [
              0.8888888888888888,
              "#fdca26"
             ],
             [
              1,
              "#f0f921"
             ]
            ],
            "type": "heatmap"
           }
          ],
          "heatmapgl": [
           {
            "colorbar": {
             "outlinewidth": 0,
             "ticks": ""
            },
            "colorscale": [
             [
              0,
              "#0d0887"
             ],
             [
              0.1111111111111111,
              "#46039f"
             ],
             [
              0.2222222222222222,
              "#7201a8"
             ],
             [
              0.3333333333333333,
              "#9c179e"
             ],
             [
              0.4444444444444444,
              "#bd3786"
             ],
             [
              0.5555555555555556,
              "#d8576b"
             ],
             [
              0.6666666666666666,
              "#ed7953"
             ],
             [
              0.7777777777777778,
              "#fb9f3a"
             ],
             [
              0.8888888888888888,
              "#fdca26"
             ],
             [
              1,
              "#f0f921"
             ]
            ],
            "type": "heatmapgl"
           }
          ],
          "histogram": [
           {
            "marker": {
             "colorbar": {
              "outlinewidth": 0,
              "ticks": ""
             }
            },
            "type": "histogram"
           }
          ],
          "histogram2d": [
           {
            "colorbar": {
             "outlinewidth": 0,
             "ticks": ""
            },
            "colorscale": [
             [
              0,
              "#0d0887"
             ],
             [
              0.1111111111111111,
              "#46039f"
             ],
             [
              0.2222222222222222,
              "#7201a8"
             ],
             [
              0.3333333333333333,
              "#9c179e"
             ],
             [
              0.4444444444444444,
              "#bd3786"
             ],
             [
              0.5555555555555556,
              "#d8576b"
             ],
             [
              0.6666666666666666,
              "#ed7953"
             ],
             [
              0.7777777777777778,
              "#fb9f3a"
             ],
             [
              0.8888888888888888,
              "#fdca26"
             ],
             [
              1,
              "#f0f921"
             ]
            ],
            "type": "histogram2d"
           }
          ],
          "histogram2dcontour": [
           {
            "colorbar": {
             "outlinewidth": 0,
             "ticks": ""
            },
            "colorscale": [
             [
              0,
              "#0d0887"
             ],
             [
              0.1111111111111111,
              "#46039f"
             ],
             [
              0.2222222222222222,
              "#7201a8"
             ],
             [
              0.3333333333333333,
              "#9c179e"
             ],
             [
              0.4444444444444444,
              "#bd3786"
             ],
             [
              0.5555555555555556,
              "#d8576b"
             ],
             [
              0.6666666666666666,
              "#ed7953"
             ],
             [
              0.7777777777777778,
              "#fb9f3a"
             ],
             [
              0.8888888888888888,
              "#fdca26"
             ],
             [
              1,
              "#f0f921"
             ]
            ],
            "type": "histogram2dcontour"
           }
          ],
          "mesh3d": [
           {
            "colorbar": {
             "outlinewidth": 0,
             "ticks": ""
            },
            "type": "mesh3d"
           }
          ],
          "parcoords": [
           {
            "line": {
             "colorbar": {
              "outlinewidth": 0,
              "ticks": ""
             }
            },
            "type": "parcoords"
           }
          ],
          "scatter": [
           {
            "marker": {
             "colorbar": {
              "outlinewidth": 0,
              "ticks": ""
             }
            },
            "type": "scatter"
           }
          ],
          "scatter3d": [
           {
            "line": {
             "colorbar": {
              "outlinewidth": 0,
              "ticks": ""
             }
            },
            "marker": {
             "colorbar": {
              "outlinewidth": 0,
              "ticks": ""
             }
            },
            "type": "scatter3d"
           }
          ],
          "scattercarpet": [
           {
            "marker": {
             "colorbar": {
              "outlinewidth": 0,
              "ticks": ""
             }
            },
            "type": "scattercarpet"
           }
          ],
          "scattergeo": [
           {
            "marker": {
             "colorbar": {
              "outlinewidth": 0,
              "ticks": ""
             }
            },
            "type": "scattergeo"
           }
          ],
          "scattergl": [
           {
            "marker": {
             "colorbar": {
              "outlinewidth": 0,
              "ticks": ""
             }
            },
            "type": "scattergl"
           }
          ],
          "scattermapbox": [
           {
            "marker": {
             "colorbar": {
              "outlinewidth": 0,
              "ticks": ""
             }
            },
            "type": "scattermapbox"
           }
          ],
          "scatterpolar": [
           {
            "marker": {
             "colorbar": {
              "outlinewidth": 0,
              "ticks": ""
             }
            },
            "type": "scatterpolar"
           }
          ],
          "scatterpolargl": [
           {
            "marker": {
             "colorbar": {
              "outlinewidth": 0,
              "ticks": ""
             }
            },
            "type": "scatterpolargl"
           }
          ],
          "scatterternary": [
           {
            "marker": {
             "colorbar": {
              "outlinewidth": 0,
              "ticks": ""
             }
            },
            "type": "scatterternary"
           }
          ],
          "surface": [
           {
            "colorbar": {
             "outlinewidth": 0,
             "ticks": ""
            },
            "colorscale": [
             [
              0,
              "#0d0887"
             ],
             [
              0.1111111111111111,
              "#46039f"
             ],
             [
              0.2222222222222222,
              "#7201a8"
             ],
             [
              0.3333333333333333,
              "#9c179e"
             ],
             [
              0.4444444444444444,
              "#bd3786"
             ],
             [
              0.5555555555555556,
              "#d8576b"
             ],
             [
              0.6666666666666666,
              "#ed7953"
             ],
             [
              0.7777777777777778,
              "#fb9f3a"
             ],
             [
              0.8888888888888888,
              "#fdca26"
             ],
             [
              1,
              "#f0f921"
             ]
            ],
            "type": "surface"
           }
          ],
          "table": [
           {
            "cells": {
             "fill": {
              "color": "#EBF0F8"
             },
             "line": {
              "color": "white"
             }
            },
            "header": {
             "fill": {
              "color": "#C8D4E3"
             },
             "line": {
              "color": "white"
             }
            },
            "type": "table"
           }
          ]
         },
         "layout": {
          "annotationdefaults": {
           "arrowcolor": "#2a3f5f",
           "arrowhead": 0,
           "arrowwidth": 1
          },
          "colorscale": {
           "diverging": [
            [
             0,
             "#8e0152"
            ],
            [
             0.1,
             "#c51b7d"
            ],
            [
             0.2,
             "#de77ae"
            ],
            [
             0.3,
             "#f1b6da"
            ],
            [
             0.4,
             "#fde0ef"
            ],
            [
             0.5,
             "#f7f7f7"
            ],
            [
             0.6,
             "#e6f5d0"
            ],
            [
             0.7,
             "#b8e186"
            ],
            [
             0.8,
             "#7fbc41"
            ],
            [
             0.9,
             "#4d9221"
            ],
            [
             1,
             "#276419"
            ]
           ],
           "sequential": [
            [
             0,
             "#0d0887"
            ],
            [
             0.1111111111111111,
             "#46039f"
            ],
            [
             0.2222222222222222,
             "#7201a8"
            ],
            [
             0.3333333333333333,
             "#9c179e"
            ],
            [
             0.4444444444444444,
             "#bd3786"
            ],
            [
             0.5555555555555556,
             "#d8576b"
            ],
            [
             0.6666666666666666,
             "#ed7953"
            ],
            [
             0.7777777777777778,
             "#fb9f3a"
            ],
            [
             0.8888888888888888,
             "#fdca26"
            ],
            [
             1,
             "#f0f921"
            ]
           ],
           "sequentialminus": [
            [
             0,
             "#0d0887"
            ],
            [
             0.1111111111111111,
             "#46039f"
            ],
            [
             0.2222222222222222,
             "#7201a8"
            ],
            [
             0.3333333333333333,
             "#9c179e"
            ],
            [
             0.4444444444444444,
             "#bd3786"
            ],
            [
             0.5555555555555556,
             "#d8576b"
            ],
            [
             0.6666666666666666,
             "#ed7953"
            ],
            [
             0.7777777777777778,
             "#fb9f3a"
            ],
            [
             0.8888888888888888,
             "#fdca26"
            ],
            [
             1,
             "#f0f921"
            ]
           ]
          },
          "colorway": [
           "#636efa",
           "#EF553B",
           "#00cc96",
           "#ab63fa",
           "#FFA15A",
           "#19d3f3",
           "#FF6692",
           "#B6E880",
           "#FF97FF",
           "#FECB52"
          ],
          "font": {
           "color": "#2a3f5f"
          },
          "geo": {
           "bgcolor": "white",
           "lakecolor": "white",
           "landcolor": "#E5ECF6",
           "showlakes": true,
           "showland": true,
           "subunitcolor": "white"
          },
          "hoverlabel": {
           "align": "left"
          },
          "hovermode": "closest",
          "mapbox": {
           "style": "light"
          },
          "paper_bgcolor": "white",
          "plot_bgcolor": "#E5ECF6",
          "polar": {
           "angularaxis": {
            "gridcolor": "white",
            "linecolor": "white",
            "ticks": ""
           },
           "bgcolor": "#E5ECF6",
           "radialaxis": {
            "gridcolor": "white",
            "linecolor": "white",
            "ticks": ""
           }
          },
          "scene": {
           "xaxis": {
            "backgroundcolor": "#E5ECF6",
            "gridcolor": "white",
            "gridwidth": 2,
            "linecolor": "white",
            "showbackground": true,
            "ticks": "",
            "zerolinecolor": "white"
           },
           "yaxis": {
            "backgroundcolor": "#E5ECF6",
            "gridcolor": "white",
            "gridwidth": 2,
            "linecolor": "white",
            "showbackground": true,
            "ticks": "",
            "zerolinecolor": "white"
           },
           "zaxis": {
            "backgroundcolor": "#E5ECF6",
            "gridcolor": "white",
            "gridwidth": 2,
            "linecolor": "white",
            "showbackground": true,
            "ticks": "",
            "zerolinecolor": "white"
           }
          },
          "shapedefaults": {
           "line": {
            "color": "#2a3f5f"
           }
          },
          "ternary": {
           "aaxis": {
            "gridcolor": "white",
            "linecolor": "white",
            "ticks": ""
           },
           "baxis": {
            "gridcolor": "white",
            "linecolor": "white",
            "ticks": ""
           },
           "bgcolor": "#E5ECF6",
           "caxis": {
            "gridcolor": "white",
            "linecolor": "white",
            "ticks": ""
           }
          },
          "title": {
           "x": 0.05
          },
          "xaxis": {
           "automargin": true,
           "gridcolor": "white",
           "linecolor": "white",
           "ticks": "",
           "zerolinecolor": "white",
           "zerolinewidth": 2
          },
          "yaxis": {
           "automargin": true,
           "gridcolor": "white",
           "linecolor": "white",
           "ticks": "",
           "zerolinecolor": "white",
           "zerolinewidth": 2
          }
         }
        }
       }
      },
      "text/html": [
       "<div>\n",
       "        \n",
       "        \n",
       "            <div id=\"7d9f92cf-8af4-4b49-86c0-fb8bdad5ad7c\" class=\"plotly-graph-div\" style=\"height:525px; width:100%;\"></div>\n",
       "            <script type=\"text/javascript\">\n",
       "                require([\"plotly\"], function(Plotly) {\n",
       "                    window.PLOTLYENV=window.PLOTLYENV || {};\n",
       "                    \n",
       "                if (document.getElementById(\"7d9f92cf-8af4-4b49-86c0-fb8bdad5ad7c\")) {\n",
       "                    Plotly.newPlot(\n",
       "                        '7d9f92cf-8af4-4b49-86c0-fb8bdad5ad7c',\n",
       "                        [{\"name\": \"PUBLIC WORKS\", \"type\": \"bar\", \"x\": [\"2011-12 Actual\", \"2012-13 Actual\", \"2013-14 Actual\", \"2014-15 Actual\", \"2015-16 Actual\", \"2016-17 Actual\", \"2017-18 Actual\", \"2018-19 Adopted Budget\", \"2019-20 Proposed Budget\"], \"y\": [\"$186,535,064 \", \"$221,025,972 \", \"$178,389,707 \", \"$180,689,142 \", \"$206,854,289 \", \"$215,170,806 \", \"$219,521,708 \", \"$199,283,083 \", \"$242,114,403 \"]}, {\"name\": \"DEVEL0PMENT SERVICES\", \"type\": \"bar\", \"x\": [\"2011-12 Actual\", \"2012-13 Actual\", \"2013-14 Actual\", \"2014-15 Actual\", \"2015-16 Actual\", \"2016-17 Actual\", \"2017-18 Actual\", \"2018-19 Adopted Budget\", \"2019-20 Proposed Budget\"], \"y\": [\"310,961,163\", \"146,389,968\", \"113,322,724\", \"310,897,673\", \"93,869,665\", \"77,510,788\", \"106,972,164\", \"115,396,257\", \"76,017,157\"]}, {\"name\": \"ENTERPRISE\", \"type\": \"bar\", \"x\": [\"2011-12 Actual\", \"2012-13 Actual\", \"2013-14 Actual\", \"2014-15 Actual\", \"2015-16 Actual\", \"2016-17 Actual\", \"2017-18 Actual\", \"2018-19 Adopted Budget\", \"2019-20 Proposed Budget\"], \"y\": [\"1,320,162,959\", \"1,702,228,769\", \"1,434,714,486\", \"978,227,383\", \"990,290,335\", \"941,052,331\", \"1,038,703,651\", \"1,411,268,167\", \"1,111,756,810\"]}, {\"name\": \"ELECTED AND APPOINTED\", \"type\": \"bar\", \"x\": [\"2011-12 Actual\", \"2012-13 Actual\", \"2013-14 Actual\", \"2014-15 Actual\", \"2015-16 Actual\", \"2016-17 Actual\", \"2017-18 Actual\", \"2018-19 Adopted Budget\", \"2019-20 Proposed Budget\"], \"y\": [\"25,333,580\", \"24,373,193\", \"26,892,378\", \"25,689,895\", \"28,252,439\", \"28,201,876\", \"30,929,163\", \"33,144,490\", \"33,990,425\"]}, {\"name\": \"INTERNAL SERVICES\", \"type\": \"bar\", \"x\": [\"2011-12 Actual\", \"2012-13 Actual\", \"2013-14 Actual\", \"2014-15 Actual\", \"2015-16 Actual\", \"2016-17 Actual\", \"2017-18 Actual\", \"2018-19 Adopted Budget\", \"2019-20 Proposed Budget\"], \"y\": [\"91,927,400\", \"117,254,617\", \"141,748,372\", \"154,295,626\", \"139,344,860\", \"135,696,595\", \"135,025,138\", \"154,251,748\", \"159,601,699\"]}, {\"name\": \"PUBLIC SAFETY\", \"type\": \"bar\", \"x\": [\"2011-12 Actual\", \"2012-13 Actual\", \"2013-14 Actual\", \"2014-15 Actual\", \"2015-16 Actual\", \"2016-17 Actual\", \"2017-18 Actual\", \"2018-19 Adopted Budget\", \"2019-20 Proposed Budget\"], \"y\": [\"304,381,123\", \"306,099,235\", \"321,664,293\", \"320,089,911\", \"327,923,358\", \"362,013,988\", \"383,005,737\", \"398,931,953\", \"408,112,357\"]}, {\"name\": \"COMMUNITY SERVICES\", \"type\": \"bar\", \"x\": [\"2011-12 Actual\", \"2012-13 Actual\", \"2013-14 Actual\", \"2014-15 Actual\", \"2015-16 Actual\", \"2016-17 Actual\", \"2017-18 Actual\", \"2018-19 Adopted Budget\", \"2019-20 Proposed Budget\"], \"y\": [\"204,994,347\", \"191,637,976\", \"181,139,950\", \"184,568,776\", \"191,364,979\", \"193,286,705\", \"198,069,337\", \"212,859,739\", \"227,833,391\"]}, {\"name\": \"ECONOMIC DEVELOPMENT\", \"type\": \"bar\", \"x\": [\"2011-12 Actual\", \"2012-13 Actual\", \"2013-14 Actual\", \"2014-15 Actual\", \"2015-16 Actual\", \"2016-17 Actual\", \"2017-18 Actual\", \"2018-19 Adopted Budget\", \"2019-20 Proposed Budget\"], \"y\": [\"0\", \"0\", \"0\", \"0\", \"31,734,344\", \"30,134,761\", \"33,460,528\", \"21,524,996\", \"22,809,791\"]}, {\"name\": \"CITY WIDE ACTIVITIES\", \"type\": \"bar\", \"x\": [\"2011-12 Actual\", \"2012-13 Actual\", \"2013-14 Actual\", \"2014-15 Actual\", \"2015-16 Actual\", \"2016-17 Actual\", \"2017-18 Actual\", \"2018-19 Adopted Budget\", \"2019-20 Proposed Budget\"], \"y\": [\"424,707,230\", \"403,692,397\", \"384,297,883\", \"417,685,667\", \"390,054,403\", \"430,612,967\", \"454,832,408\", \"484,100,630\", \"514,803,273\"]}],\n",
       "                        {\"barmode\": \"stack\", \"template\": {\"data\": {\"bar\": [{\"error_x\": {\"color\": \"#2a3f5f\"}, \"error_y\": {\"color\": \"#2a3f5f\"}, \"marker\": {\"line\": {\"color\": \"#E5ECF6\", \"width\": 0.5}}, \"type\": \"bar\"}], \"barpolar\": [{\"marker\": {\"line\": {\"color\": \"#E5ECF6\", \"width\": 0.5}}, \"type\": \"barpolar\"}], \"carpet\": [{\"aaxis\": {\"endlinecolor\": \"#2a3f5f\", \"gridcolor\": \"white\", \"linecolor\": \"white\", \"minorgridcolor\": \"white\", \"startlinecolor\": \"#2a3f5f\"}, \"baxis\": {\"endlinecolor\": \"#2a3f5f\", \"gridcolor\": \"white\", \"linecolor\": \"white\", \"minorgridcolor\": \"white\", \"startlinecolor\": \"#2a3f5f\"}, \"type\": \"carpet\"}], \"choropleth\": [{\"colorbar\": {\"outlinewidth\": 0, \"ticks\": \"\"}, \"type\": \"choropleth\"}], \"contour\": [{\"colorbar\": {\"outlinewidth\": 0, \"ticks\": \"\"}, \"colorscale\": [[0.0, \"#0d0887\"], [0.1111111111111111, \"#46039f\"], [0.2222222222222222, \"#7201a8\"], [0.3333333333333333, \"#9c179e\"], [0.4444444444444444, \"#bd3786\"], [0.5555555555555556, \"#d8576b\"], [0.6666666666666666, \"#ed7953\"], [0.7777777777777778, \"#fb9f3a\"], [0.8888888888888888, \"#fdca26\"], [1.0, \"#f0f921\"]], \"type\": \"contour\"}], \"contourcarpet\": [{\"colorbar\": {\"outlinewidth\": 0, \"ticks\": \"\"}, \"type\": \"contourcarpet\"}], \"heatmap\": [{\"colorbar\": {\"outlinewidth\": 0, \"ticks\": \"\"}, \"colorscale\": [[0.0, \"#0d0887\"], [0.1111111111111111, \"#46039f\"], [0.2222222222222222, \"#7201a8\"], [0.3333333333333333, \"#9c179e\"], [0.4444444444444444, \"#bd3786\"], [0.5555555555555556, \"#d8576b\"], [0.6666666666666666, \"#ed7953\"], [0.7777777777777778, \"#fb9f3a\"], [0.8888888888888888, \"#fdca26\"], [1.0, \"#f0f921\"]], \"type\": \"heatmap\"}], \"heatmapgl\": [{\"colorbar\": {\"outlinewidth\": 0, \"ticks\": \"\"}, \"colorscale\": [[0.0, \"#0d0887\"], [0.1111111111111111, \"#46039f\"], [0.2222222222222222, \"#7201a8\"], [0.3333333333333333, \"#9c179e\"], [0.4444444444444444, \"#bd3786\"], [0.5555555555555556, \"#d8576b\"], [0.6666666666666666, \"#ed7953\"], [0.7777777777777778, \"#fb9f3a\"], [0.8888888888888888, \"#fdca26\"], [1.0, \"#f0f921\"]], \"type\": \"heatmapgl\"}], \"histogram\": [{\"marker\": {\"colorbar\": {\"outlinewidth\": 0, \"ticks\": \"\"}}, \"type\": \"histogram\"}], \"histogram2d\": [{\"colorbar\": {\"outlinewidth\": 0, \"ticks\": \"\"}, \"colorscale\": [[0.0, \"#0d0887\"], [0.1111111111111111, \"#46039f\"], [0.2222222222222222, \"#7201a8\"], [0.3333333333333333, \"#9c179e\"], [0.4444444444444444, \"#bd3786\"], [0.5555555555555556, \"#d8576b\"], [0.6666666666666666, \"#ed7953\"], [0.7777777777777778, \"#fb9f3a\"], [0.8888888888888888, \"#fdca26\"], [1.0, \"#f0f921\"]], \"type\": \"histogram2d\"}], \"histogram2dcontour\": [{\"colorbar\": {\"outlinewidth\": 0, \"ticks\": \"\"}, \"colorscale\": [[0.0, \"#0d0887\"], [0.1111111111111111, \"#46039f\"], [0.2222222222222222, \"#7201a8\"], [0.3333333333333333, \"#9c179e\"], [0.4444444444444444, \"#bd3786\"], [0.5555555555555556, \"#d8576b\"], [0.6666666666666666, \"#ed7953\"], [0.7777777777777778, \"#fb9f3a\"], [0.8888888888888888, \"#fdca26\"], [1.0, \"#f0f921\"]], \"type\": \"histogram2dcontour\"}], \"mesh3d\": [{\"colorbar\": {\"outlinewidth\": 0, \"ticks\": \"\"}, \"type\": \"mesh3d\"}], \"parcoords\": [{\"line\": {\"colorbar\": {\"outlinewidth\": 0, \"ticks\": \"\"}}, \"type\": \"parcoords\"}], \"scatter\": [{\"marker\": {\"colorbar\": {\"outlinewidth\": 0, \"ticks\": \"\"}}, \"type\": \"scatter\"}], \"scatter3d\": [{\"line\": {\"colorbar\": {\"outlinewidth\": 0, \"ticks\": \"\"}}, \"marker\": {\"colorbar\": {\"outlinewidth\": 0, \"ticks\": \"\"}}, \"type\": \"scatter3d\"}], \"scattercarpet\": [{\"marker\": {\"colorbar\": {\"outlinewidth\": 0, \"ticks\": \"\"}}, \"type\": \"scattercarpet\"}], \"scattergeo\": [{\"marker\": {\"colorbar\": {\"outlinewidth\": 0, \"ticks\": \"\"}}, \"type\": \"scattergeo\"}], \"scattergl\": [{\"marker\": {\"colorbar\": {\"outlinewidth\": 0, \"ticks\": \"\"}}, \"type\": \"scattergl\"}], \"scattermapbox\": [{\"marker\": {\"colorbar\": {\"outlinewidth\": 0, \"ticks\": \"\"}}, \"type\": \"scattermapbox\"}], \"scatterpolar\": [{\"marker\": {\"colorbar\": {\"outlinewidth\": 0, \"ticks\": \"\"}}, \"type\": \"scatterpolar\"}], \"scatterpolargl\": [{\"marker\": {\"colorbar\": {\"outlinewidth\": 0, \"ticks\": \"\"}}, \"type\": \"scatterpolargl\"}], \"scatterternary\": [{\"marker\": {\"colorbar\": {\"outlinewidth\": 0, \"ticks\": \"\"}}, \"type\": \"scatterternary\"}], \"surface\": [{\"colorbar\": {\"outlinewidth\": 0, \"ticks\": \"\"}, \"colorscale\": [[0.0, \"#0d0887\"], [0.1111111111111111, \"#46039f\"], [0.2222222222222222, \"#7201a8\"], [0.3333333333333333, \"#9c179e\"], [0.4444444444444444, \"#bd3786\"], [0.5555555555555556, \"#d8576b\"], [0.6666666666666666, \"#ed7953\"], [0.7777777777777778, \"#fb9f3a\"], [0.8888888888888888, \"#fdca26\"], [1.0, \"#f0f921\"]], \"type\": \"surface\"}], \"table\": [{\"cells\": {\"fill\": {\"color\": \"#EBF0F8\"}, \"line\": {\"color\": \"white\"}}, \"header\": {\"fill\": {\"color\": \"#C8D4E3\"}, \"line\": {\"color\": \"white\"}}, \"type\": \"table\"}]}, \"layout\": {\"annotationdefaults\": {\"arrowcolor\": \"#2a3f5f\", \"arrowhead\": 0, \"arrowwidth\": 1}, \"colorscale\": {\"diverging\": [[0, \"#8e0152\"], [0.1, \"#c51b7d\"], [0.2, \"#de77ae\"], [0.3, \"#f1b6da\"], [0.4, \"#fde0ef\"], [0.5, \"#f7f7f7\"], [0.6, \"#e6f5d0\"], [0.7, \"#b8e186\"], [0.8, \"#7fbc41\"], [0.9, \"#4d9221\"], [1, \"#276419\"]], \"sequential\": [[0.0, \"#0d0887\"], [0.1111111111111111, \"#46039f\"], [0.2222222222222222, \"#7201a8\"], [0.3333333333333333, \"#9c179e\"], [0.4444444444444444, \"#bd3786\"], [0.5555555555555556, \"#d8576b\"], [0.6666666666666666, \"#ed7953\"], [0.7777777777777778, \"#fb9f3a\"], [0.8888888888888888, \"#fdca26\"], [1.0, \"#f0f921\"]], \"sequentialminus\": [[0.0, \"#0d0887\"], [0.1111111111111111, \"#46039f\"], [0.2222222222222222, \"#7201a8\"], [0.3333333333333333, \"#9c179e\"], [0.4444444444444444, \"#bd3786\"], [0.5555555555555556, \"#d8576b\"], [0.6666666666666666, \"#ed7953\"], [0.7777777777777778, \"#fb9f3a\"], [0.8888888888888888, \"#fdca26\"], [1.0, \"#f0f921\"]]}, \"colorway\": [\"#636efa\", \"#EF553B\", \"#00cc96\", \"#ab63fa\", \"#FFA15A\", \"#19d3f3\", \"#FF6692\", \"#B6E880\", \"#FF97FF\", \"#FECB52\"], \"font\": {\"color\": \"#2a3f5f\"}, \"geo\": {\"bgcolor\": \"white\", \"lakecolor\": \"white\", \"landcolor\": \"#E5ECF6\", \"showlakes\": true, \"showland\": true, \"subunitcolor\": \"white\"}, \"hoverlabel\": {\"align\": \"left\"}, \"hovermode\": \"closest\", \"mapbox\": {\"style\": \"light\"}, \"paper_bgcolor\": \"white\", \"plot_bgcolor\": \"#E5ECF6\", \"polar\": {\"angularaxis\": {\"gridcolor\": \"white\", \"linecolor\": \"white\", \"ticks\": \"\"}, \"bgcolor\": \"#E5ECF6\", \"radialaxis\": {\"gridcolor\": \"white\", \"linecolor\": \"white\", \"ticks\": \"\"}}, \"scene\": {\"xaxis\": {\"backgroundcolor\": \"#E5ECF6\", \"gridcolor\": \"white\", \"gridwidth\": 2, \"linecolor\": \"white\", \"showbackground\": true, \"ticks\": \"\", \"zerolinecolor\": \"white\"}, \"yaxis\": {\"backgroundcolor\": \"#E5ECF6\", \"gridcolor\": \"white\", \"gridwidth\": 2, \"linecolor\": \"white\", \"showbackground\": true, \"ticks\": \"\", \"zerolinecolor\": \"white\"}, \"zaxis\": {\"backgroundcolor\": \"#E5ECF6\", \"gridcolor\": \"white\", \"gridwidth\": 2, \"linecolor\": \"white\", \"showbackground\": true, \"ticks\": \"\", \"zerolinecolor\": \"white\"}}, \"shapedefaults\": {\"line\": {\"color\": \"#2a3f5f\"}}, \"ternary\": {\"aaxis\": {\"gridcolor\": \"white\", \"linecolor\": \"white\", \"ticks\": \"\"}, \"baxis\": {\"gridcolor\": \"white\", \"linecolor\": \"white\", \"ticks\": \"\"}, \"bgcolor\": \"#E5ECF6\", \"caxis\": {\"gridcolor\": \"white\", \"linecolor\": \"white\", \"ticks\": \"\"}}, \"title\": {\"x\": 0.05}, \"xaxis\": {\"automargin\": true, \"gridcolor\": \"white\", \"linecolor\": \"white\", \"ticks\": \"\", \"zerolinecolor\": \"white\", \"zerolinewidth\": 2}, \"yaxis\": {\"automargin\": true, \"gridcolor\": \"white\", \"linecolor\": \"white\", \"ticks\": \"\", \"zerolinecolor\": \"white\", \"zerolinewidth\": 2}}}},\n",
       "                        {\"responsive\": true}\n",
       "                    ).then(function(){\n",
       "                            \n",
       "var gd = document.getElementById('7d9f92cf-8af4-4b49-86c0-fb8bdad5ad7c');\n",
       "var x = new MutationObserver(function (mutations, observer) {{\n",
       "        var display = window.getComputedStyle(gd).display;\n",
       "        if (!display || display === 'none') {{\n",
       "            console.log([gd, 'removed!']);\n",
       "            Plotly.purge(gd);\n",
       "            observer.disconnect();\n",
       "        }}\n",
       "}});\n",
       "\n",
       "// Listen for the removal of the full notebook cells\n",
       "var notebookContainer = gd.closest('#notebook-container');\n",
       "if (notebookContainer) {{\n",
       "    x.observe(notebookContainer, {childList: true});\n",
       "}}\n",
       "\n",
       "// Listen for the clearing of the current output cell\n",
       "var outputEl = gd.closest('.output');\n",
       "if (outputEl) {{\n",
       "    x.observe(outputEl, {childList: true});\n",
       "}}\n",
       "\n",
       "                        })\n",
       "                };\n",
       "                });\n",
       "            </script>\n",
       "        </div>"
      ]
     },
     "metadata": {},
     "output_type": "display_data"
    }
   ],
   "source": [
    "stackedBarFig = go.Figure()\n",
    "\n",
    "for i in range(len(df.columns)-1):\n",
    "    stackedBarFig.add_trace(go.Bar(x=df.columns[1:], y=df.iloc[i][1:], name=df.iloc[i][0]))\n",
    "stackedBarFig.update_layout(barmode='stack')\n",
    "#fig.show()"
   ]
  },
  {
   "cell_type": "code",
   "execution_count": 126,
   "metadata": {},
   "outputs": [],
   "source": [
    "labels=[]\n",
    "values=[]\n",
    "\n",
    "for i in range(len(df['2019-20 Proposed Budget'])-1):\n",
    "    labels.append(df.iloc[i][0])\n",
    "    values.append((df['2019-20 Proposed Budget'][i]))\n",
    "    values[i] = values[i].replace(',','')\n",
    "    values[i] = values[i].replace('$','')\n",
    "    values[i] = int(values[i])\n",
    "    \n",
    "pieFig = go.Figure(data=[go.Pie(labels=labels, values=values)])\n",
    "#pieFig.show()"
   ]
  },
  {
   "cell_type": "code",
   "execution_count": 127,
   "metadata": {},
   "outputs": [],
   "source": [
    "app.layout = html.Div(children=[\n",
    "    html.Div(children=[\n",
    "        dcc.Graph(\n",
    "            figure = stackedLineFig\n",
    "        ),\n",
    "        dcc.Graph(\n",
    "            figure = lineFig\n",
    "        ),\n",
    "        dcc.Graph(\n",
    "            figure = percentLineFig\n",
    "        ),\n",
    "        dcc.Graph(\n",
    "            figure = groupedBarFig\n",
    "        ),\n",
    "        dcc.Graph(\n",
    "            figure = stackedBarFig\n",
    "        ),\n",
    "    ])\n",
    "    \n",
    "])"
   ]
  },
  {
   "cell_type": "code",
   "execution_count": 128,
   "metadata": {},
   "outputs": [
    {
     "name": "stdout",
     "output_type": "stream",
     "text": [
      " * Serving Flask app \"__main__\" (lazy loading)\n",
      " * Environment: production\n",
      "   WARNING: This is a development server. Do not use it in a production deployment.\n",
      "   Use a production WSGI server instead.\n",
      " * Debug mode: off\n"
     ]
    },
    {
     "name": "stderr",
     "output_type": "stream",
     "text": [
      " * Running on http://0.0.0.0:8050/ (Press CTRL+C to quit)\n",
      "127.0.0.1 - - [21/Aug/2019 15:02:18] \"GET / HTTP/1.1\" 200 -\n",
      "127.0.0.1 - - [21/Aug/2019 15:02:18] \"GET /_dash-component-suites/dash_renderer/react@16.8.6.min.js?v=1.0.0&m=1561062262 HTTP/1.1\" 200 -\n",
      "127.0.0.1 - - [21/Aug/2019 15:02:18] \"GET /_dash-component-suites/dash_renderer/prop-types@15.7.2.min.js?v=1.0.0&m=1561062262 HTTP/1.1\" 200 -\n",
      "127.0.0.1 - - [21/Aug/2019 15:02:18] \"GET /_dash-component-suites/dash_renderer/react-dom@16.8.6.min.js?v=1.0.0&m=1561062262 HTTP/1.1\" 200 -\n",
      "127.0.0.1 - - [21/Aug/2019 15:02:18] \"GET /_dash-component-suites/dash_core_components/highlight.pack.js?v=1.0.0&m=1563307603 HTTP/1.1\" 200 -\n",
      "127.0.0.1 - - [21/Aug/2019 15:02:18] \"GET /_dash-component-suites/dash_html_components/dash_html_components.min.js?v=1.0.0&m=1561063963 HTTP/1.1\" 200 -\n",
      "127.0.0.1 - - [21/Aug/2019 15:02:18] \"GET /_dash-component-suites/dash_renderer/dash_renderer.min.js?v=1.0.0&m=1561062262 HTTP/1.1\" 200 -\n",
      "127.0.0.1 - - [21/Aug/2019 15:02:18] \"GET /_dash-component-suites/dash_core_components/dash_core_components.min.js?v=1.0.0&m=1563307603 HTTP/1.1\" 200 -\n",
      "127.0.0.1 - - [21/Aug/2019 15:02:18] \"GET /_dash-component-suites/dash_core_components/plotly-1.48.3.min.js?v=1.0.0&m=1563307603 HTTP/1.1\" 200 -\n",
      "127.0.0.1 - - [21/Aug/2019 15:02:19] \"GET /_dash-dependencies HTTP/1.1\" 200 -\n",
      "127.0.0.1 - - [21/Aug/2019 15:02:19] \"GET /_dash-layout HTTP/1.1\" 200 -\n",
      "127.0.0.1 - - [21/Aug/2019 15:02:19] \"GET /_favicon.ico?v=1.0.2 HTTP/1.1\" 200 -\n"
     ]
    }
   ],
   "source": [
    "if __name__ == '__main__':\n",
    "    #app.run_server(debug=True)\n",
    "\n",
    "    app.run_server(host='0.0.0.0', port = 8050)"
   ]
  },
  {
   "cell_type": "code",
   "execution_count": null,
   "metadata": {},
   "outputs": [],
   "source": []
  }
 ],
 "metadata": {
  "kernelspec": {
   "display_name": "'python3_7_lbc_kernel'",
   "language": "python",
   "name": "lbc-kernel"
  },
  "language_info": {
   "codemirror_mode": {
    "name": "ipython",
    "version": 3
   },
   "file_extension": ".py",
   "mimetype": "text/x-python",
   "name": "python",
   "nbconvert_exporter": "python",
   "pygments_lexer": "ipython3",
   "version": "3.7.3"
  }
 },
 "nbformat": 4,
 "nbformat_minor": 2
}

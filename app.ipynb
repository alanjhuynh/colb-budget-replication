{
 "cells": [
  {
   "cell_type": "code",
   "execution_count": null,
   "metadata": {},
   "outputs": [],
   "source": [
    "import dash\n",
    "import dash_core_components as dcc\n",
    "import dash_html_components as html\n",
    "import dash_table\n",
    "from dash.dependencies import Input, Output\n",
    "import pandas as pd\n",
    "import plotly\n",
    "import plotly.graph_objects as go\n",
    "\n",
    "df=pd.read_csv('./data/wide_budget.csv')"
   ]
  },
  {
   "cell_type": "code",
   "execution_count": null,
   "metadata": {},
   "outputs": [],
   "source": [
    "def clean_column_name(x):\n",
    "    return x.replace(' ','_').lower()"
   ]
  },
  {
   "cell_type": "code",
   "execution_count": null,
   "metadata": {},
   "outputs": [],
   "source": [
    "external_stylesheets = ['https://codepen.io/chriddyp/pen/bWLwgP.css']\n",
    "\n",
    "colors = {\n",
    "    'background': '#111111',\n",
    "    'text': 'black',\n",
    "    'default': 'black',\n",
    "    'border': 'transparent'\n",
    "}\n",
    "\n",
    "app = dash.Dash(__name__, external_stylesheets=external_stylesheets)"
   ]
  },
  {
   "cell_type": "code",
   "execution_count": null,
   "metadata": {},
   "outputs": [],
   "source": [
    "stackedLineFig = go.Figure()\n",
    "\n",
    "for i in range(len(df.columns)-1):\n",
    "    stackedLineFig.add_trace(go.Scatter(x=df.columns[1:], y=df.iloc[i][1:], name=df.iloc[i][0], stackgroup='one'))\n",
    "#stackedLineFig.show()"
   ]
  },
  {
   "cell_type": "code",
   "execution_count": null,
   "metadata": {},
   "outputs": [],
   "source": [
    "lineFig = go.Figure()\n",
    "\n",
    "for i in range(len(df.columns)-1):\n",
    "    lineFig.add_trace(go.Scatter(x=df.columns[1:], y=df.iloc[i][1:], name=df.iloc[i][0]))    \n",
    "#lineFig.show()"
   ]
  },
  {
   "cell_type": "code",
   "execution_count": null,
   "metadata": {},
   "outputs": [],
   "source": [
    "percentLineFig = go.Figure()\n",
    "\n",
    "for i in range(len(df.columns)-1):\n",
    "    percentLineFig.add_trace(go.Scatter(x=df.columns[1:], y=df.iloc[i][1:], name=df.iloc[i][0], stackgroup='one', groupnorm='percent'))\n",
    "#percentLineFig.show()"
   ]
  },
  {
   "cell_type": "code",
   "execution_count": null,
   "metadata": {},
   "outputs": [],
   "source": [
    "groupedBarFig = go.Figure()\n",
    "\n",
    "for i in range(len(df.columns)-1):\n",
    "    groupedBarFig.add_trace(go.Bar(x=df.columns[1:], y=df.iloc[i][1:], name=df.iloc[i][0]))\n",
    "#groupedBarFig.show()"
   ]
  },
  {
   "cell_type": "code",
   "execution_count": null,
   "metadata": {},
   "outputs": [],
   "source": [
    "stackedBarFig = go.Figure()\n",
    "\n",
    "for i in range(len(df.columns)-1):\n",
    "    stackedBarFig.add_trace(go.Bar(x=df.columns[1:], y=df.iloc[i][1:], name=df.iloc[i][0]))\n",
    "stackedBarFig.update_layout(barmode='stack')\n",
    "#fig.show()"
   ]
  },
  {
   "cell_type": "code",
   "execution_count": null,
   "metadata": {},
   "outputs": [],
   "source": [
    "labels=[]\n",
    "values=[]\n",
    "\n",
    "for i in range(len(df['2019-20 Proposed Budget'])-1):\n",
    "    labels.append(df.iloc[i][0])\n",
    "    values.append((df['2019-20 Proposed Budget'][i]))\n",
    "    values[i] = values[i].replace(',','')\n",
    "    values[i] = values[i].replace('$','')\n",
    "    values[i] = int(values[i])\n",
    "    \n",
    "pieFig = go.Figure(data=[go.Pie(labels=labels, values=values)])\n",
    "#pieFig.show()\n",
    "\n",
    "stackedLineFig.update_layout(height=600)"
   ]
  },
  {
   "cell_type": "code",
   "execution_count": null,
   "metadata": {},
   "outputs": [],
   "source": [
    "app.layout = html.Div(children=[\n",
    "    html.H1(children=[\n",
    "            'city of long beach budget'\n",
    "    ], style={'text-align' : 'center', 'font-family' : 'Verdana', 'padding-top' : '10px'}),\n",
    "    \n",
    "    html.Div(className='row', children=[\n",
    "        html.Div(className='nine columns', id = 'figDiv', children=[\n",
    "            dcc.Graph(\n",
    "                id = 'mainFig',\n",
    "                figure = stackedLineFig,\n",
    "            ),\n",
    "        ]),\n",
    "        \n",
    "        html.Div(className='three columns', id = 'controlDiv', children=[\n",
    "           html.Div([\n",
    "            dcc.Tabs(id=\"tabs\", value='tab-1', vertical='true', style={'width':'250px'}, children=[\n",
    "                dcc.Tab(label='stacked line', value='tab-1'),\n",
    "                dcc.Tab(label='line', value='tab-2'),\n",
    "                dcc.Tab(label='percent line', value='tab-3'),\n",
    "                dcc.Tab(label='grouped bar', value='tab-4'),\n",
    "                dcc.Tab(label='stacked bar', value='tab-5'),\n",
    "            ]),\n",
    "           ])\n",
    "        ], style = {'padding-top' : '5%'})\n",
    "        \n",
    "    ]),\n",
    "    \n",
    "    html.Div(dash_table.DataTable(\n",
    "    id='table',\n",
    "    columns=[{\"name\": i, \"id\": i} for i in df.columns],\n",
    "    data=df.to_dict('records'),\n",
    "    ), style = {'padding-top' : '2%',\n",
    "                'padding-bottom' : '5%'})\n",
    "    \n",
    "], style={\n",
    "    'padding-right' : '5%',\n",
    "    'padding-left' : '5%'\n",
    "})"
   ]
  },
  {
   "cell_type": "code",
   "execution_count": null,
   "metadata": {},
   "outputs": [],
   "source": [
    "@app.callback(Output('mainFig', 'figure'),\n",
    "              [Input('tabs', 'value')])\n",
    "def render_content(tab):\n",
    "    if tab == 'tab-1':\n",
    "        figure=stackedLineFig\n",
    "        return figure\n",
    "    elif tab == 'tab-2':\n",
    "        figure=lineFig\n",
    "        return figure\n",
    "    elif tab == 'tab-3':\n",
    "        figure=percentLineFig\n",
    "        return figure\n",
    "    elif tab == 'tab-4':\n",
    "        figure=groupedBarFig\n",
    "        return figure\n",
    "    elif tab == 'tab-5':\n",
    "        figure=stackedBarFig\n",
    "        return figure"
   ]
  },
  {
   "cell_type": "code",
   "execution_count": null,
   "metadata": {},
   "outputs": [],
   "source": [
    "if __name__ == '__main__':\n",
    "    #app.run_server(debug=True)\n",
    "\n",
    "    app.run_server(host='0.0.0.0', port = 8050)"
   ]
  }
 ],
 "metadata": {
  "kernelspec": {
   "display_name": "'python3_7_lbc_kernel'",
   "language": "python",
   "name": "lbc-kernel"
  },
  "language_info": {
   "codemirror_mode": {
    "name": "ipython",
    "version": 3
   },
   "file_extension": ".py",
   "mimetype": "text/x-python",
   "name": "python",
   "nbconvert_exporter": "python",
   "pygments_lexer": "ipython3",
   "version": "3.7.3"
  }
 },
 "nbformat": 4,
 "nbformat_minor": 2
}
